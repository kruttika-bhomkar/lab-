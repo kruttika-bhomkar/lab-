{
 "cells": [
  {
   "cell_type": "code",
   "execution_count": 2,
   "id": "c53fe32d",
   "metadata": {},
   "outputs": [
    {
     "name": "stdout",
     "output_type": "stream",
     "text": [
      "\n",
      " Given Play Tennis Data Set:\n",
      "\n",
      "      Outlook Temperature Humidity    Wind Play Tennis\n",
      "0      Sunny         Hot     High    Weak          No\n",
      "1      Sunny         Hot     High  Strong          No\n",
      "2   Overcast         Hot     High    Weak         Yes\n",
      "3       Rain        Mild     High    Weak         Yes\n",
      "4       Rain        Cool   Normal    Weak         Yes\n",
      "5       Rain        Cool   Normal  Strong          No\n",
      "6   Overcast        Cool   Normal  Strong         Yes\n",
      "7      Sunny        Mild     High    Weak          No\n",
      "8      Sunny        Cool   Normal    Weak         Yes\n",
      "9       Rain        Mild   Normal    Weak         Yes\n",
      "10     Sunny        Mild   Normal  Strong         Yes\n",
      "11  Overcast        Mild     High  Strong         Yes\n",
      "12  Overcast         Hot   Normal    Weak         Yes\n",
      "13      Rain        Mild     High  Strong          No\n",
      "List of Attributes: ['Outlook', 'Temperature', 'Humidity', 'Wind', 'Play Tennis']\n"
     ]
    },
    {
     "ename": "ValueError",
     "evalue": "list.remove(x): x not in list",
     "output_type": "error",
     "traceback": [
      "\u001b[1;31m---------------------------------------------------------------------------\u001b[0m",
      "\u001b[1;31mValueError\u001b[0m                                Traceback (most recent call last)",
      "\u001b[1;32m~\\AppData\\Local\\Temp/ipykernel_9148/3751263734.py\u001b[0m in \u001b[0;36m<module>\u001b[1;34m\u001b[0m\n\u001b[0;32m     43\u001b[0m \u001b[0mnames\u001b[0m \u001b[1;33m=\u001b[0m \u001b[0mlist\u001b[0m\u001b[1;33m(\u001b[0m\u001b[0mtennis\u001b[0m\u001b[1;33m.\u001b[0m\u001b[0mcolumns\u001b[0m\u001b[1;33m)\u001b[0m\u001b[1;33m\u001b[0m\u001b[1;33m\u001b[0m\u001b[0m\n\u001b[0;32m     44\u001b[0m \u001b[0mprint\u001b[0m\u001b[1;33m(\u001b[0m\u001b[1;34m\"List of Attributes:\"\u001b[0m\u001b[1;33m,\u001b[0m \u001b[0mnames\u001b[0m\u001b[1;33m)\u001b[0m\u001b[1;33m\u001b[0m\u001b[1;33m\u001b[0m\u001b[0m\n\u001b[1;32m---> 45\u001b[1;33m \u001b[0mnames\u001b[0m\u001b[1;33m.\u001b[0m\u001b[0mremove\u001b[0m\u001b[1;33m(\u001b[0m\u001b[1;34m'PlayTennis'\u001b[0m\u001b[1;33m)\u001b[0m\u001b[1;33m\u001b[0m\u001b[1;33m\u001b[0m\u001b[0m\n\u001b[0m\u001b[0;32m     46\u001b[0m \u001b[0mprint\u001b[0m\u001b[1;33m(\u001b[0m\u001b[1;34m\"Predicting Attributes:\"\u001b[0m\u001b[1;33m,\u001b[0m \u001b[0mnames\u001b[0m\u001b[1;33m)\u001b[0m\u001b[1;33m\u001b[0m\u001b[1;33m\u001b[0m\u001b[0m\n\u001b[0;32m     47\u001b[0m \u001b[0mtree\u001b[0m \u001b[1;33m=\u001b[0m \u001b[0mid3\u001b[0m\u001b[1;33m(\u001b[0m\u001b[0mtennis\u001b[0m\u001b[1;33m,\u001b[0m\u001b[1;34m'PlayTennis'\u001b[0m\u001b[1;33m,\u001b[0m\u001b[0mnames\u001b[0m\u001b[1;33m)\u001b[0m\u001b[1;33m\u001b[0m\u001b[1;33m\u001b[0m\u001b[0m\n",
      "\u001b[1;31mValueError\u001b[0m: list.remove(x): x not in list"
     ]
    }
   ],
   "source": [
    "import pandas as pd\n",
    "from collections import Counter\n",
    "import math\n",
    "\n",
    "tennis = pd.read_csv('playtennis.csv')\n",
    "print(\"\\n Given Play Tennis Data Set:\\n\\n\", tennis)\n",
    "\n",
    "def entropy(alist):\n",
    "\tc = Counter(x for x in alist)\n",
    "\tinstances = len(alist)\n",
    "\tprob = [x / instances for x in c.values()]\n",
    "\treturn sum( [-p*math.log(p, 2) for p in prob] )\n",
    "\n",
    "\n",
    "def information_gain(d, split, target):\n",
    "\tsplitting = d.groupby(split)\n",
    "\tn = len(d.index)\n",
    "\tagent = splitting.agg({target : [entropy, lambda x: len(x)/n] })[target]\n",
    "\tagent.columns = ['Entropy', 'observations']\n",
    "\tnewentropy = sum( agent['Entropy'] * agent['observations'] )\n",
    "\toldentropy = entropy(d[target])\n",
    "\treturn oldentropy - newentropy\n",
    "\n",
    "\n",
    "def id3(sub, target, a):\n",
    "\tcount = Counter(x for x in sub[target])\n",
    "\tif len(count) == 1:\n",
    "\t\treturn next(iter(count))\n",
    "\telse:\n",
    "\t\tgain = [information_gain(sub, attr, target) for attr in a]\n",
    "\t\tprint(\"Gain=\",gain)\n",
    "\t\tmaximum = gain.index(max(gain))\n",
    "\t\tbest = a[maximum]\n",
    "\t\tprint(\"Best Attribute:\",best)\n",
    "\t\ttree = {best:{}}\n",
    "\t\tremaining = [i for i in a if i != best]\n",
    "\t\t\n",
    "\t\tfor val, subset in sub.groupby(best):\n",
    "\t\t\tsubtree = id3(subset,target,remaining)\n",
    "\t\t\ttree[best][val] = subtree\n",
    "\t\treturn tree\n",
    "\n",
    "names = list(tennis.columns)\n",
    "print(\"List of Attributes:\", names)\n",
    "names.remove('PlayTennis')\n",
    "print(\"Predicting Attributes:\", names)\n",
    "tree = id3(tennis,'PlayTennis',names)\n",
    "print(\"\\n\\nThe Resultant Decision Tree is :\\n\")\n",
    "print(tree)"
   ]
  },
  {
   "cell_type": "code",
   "execution_count": null,
   "id": "23394e69",
   "metadata": {},
   "outputs": [],
   "source": []
  }
 ],
 "metadata": {
  "kernelspec": {
   "display_name": "Python 3 (ipykernel)",
   "language": "python",
   "name": "python3"
  },
  "language_info": {
   "codemirror_mode": {
    "name": "ipython",
    "version": 3
   },
   "file_extension": ".py",
   "mimetype": "text/x-python",
   "name": "python",
   "nbconvert_exporter": "python",
   "pygments_lexer": "ipython3",
   "version": "3.9.7"
  }
 },
 "nbformat": 4,
 "nbformat_minor": 5
}
