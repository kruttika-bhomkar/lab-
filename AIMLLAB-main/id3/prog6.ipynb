{
 "cells": [
  {
   "cell_type": "code",
   "execution_count": 1,
   "id": "fc4097bc",
   "metadata": {},
   "outputs": [
    {
     "name": "stdout",
     "output_type": "stream",
     "text": [
      "\n",
      " Given Play Tennis Data Set:\n",
      "\n",
      "    PlayTennis   Outlook Temperature Humidity    Wind\n",
      "0          No     Sunny         Hot     High    Weak\n",
      "1          No     Sunny         Hot     High  Strong\n",
      "2         Yes  Overcast         Hot     High    Weak\n",
      "3         Yes      Rain        Mild     High    Weak\n",
      "4         Yes      Rain        Cool   Normal    Weak\n",
      "5          No      Rain        Cool   Normal  Strong\n",
      "6         Yes  Overcast        Cool   Normal  Strong\n",
      "7          No     Sunny        Mild     High    Weak\n",
      "8         Yes     Sunny        Cool   Normal    Weak\n",
      "9         Yes      Rain        Mild   Normal    Weak\n",
      "10        Yes     Sunny        Mild   Normal  Strong\n",
      "11        Yes  Overcast        Mild     High  Strong\n",
      "12        Yes  Overcast         Hot   Normal    Weak\n",
      "13         No      Rain        Mild     High  Strong\n",
      "List of Attributes: ['PlayTennis', 'Outlook', 'Temperature', 'Humidity', 'Wind']\n",
      "Predicting Attributes: ['Outlook', 'Temperature', 'Humidity', 'Wind']\n",
      "Gain= [0.2467498197744391, 0.029222565658954647, 0.15183550136234136, 0.04812703040826927]\n",
      "Best Attribute: Outlook\n",
      "Gain= [0.01997309402197489, 0.01997309402197489, 0.9709505944546686]\n",
      "Best Attribute: Wind\n",
      "Gain= [0.5709505944546686, 0.9709505944546686, 0.01997309402197489]\n",
      "Best Attribute: Humidity\n",
      "\n",
      "\n",
      "The Resultant Decision Tree is :\n",
      "\n",
      "{'Outlook': {'Overcast': 'Yes', 'Rain': {'Wind': {'Strong': 'No', 'Weak': 'Yes'}}, 'Sunny': {'Humidity': {'High': 'No', 'Normal': 'Yes'}}}}\n"
     ]
    }
   ],
   "source": [
    "import pandas as pd\n",
    "from collections import Counter\n",
    "import math\n",
    "\n",
    "tennis = pd.read_csv('playtennis.csv')\n",
    "print(\"\\n Given Play Tennis Data Set:\\n\\n\", tennis)\n",
    "\n",
    "def entropy(alist):\n",
    "\tc = Counter(x for x in alist)\n",
    "\tinstances = len(alist)\n",
    "\tprob = [x / instances for x in c.values()]\n",
    "\treturn sum( [-p*math.log(p, 2) for p in prob] )\n",
    "\n",
    "\n",
    "def information_gain(d, split, target):\n",
    "\tsplitting = d.groupby(split)\n",
    "\tn = len(d.index)\n",
    "\tagent = splitting.agg({target : [entropy, lambda x: len(x)/n] })[target]\n",
    "\tagent.columns = ['Entropy', 'observations']\n",
    "\tnewentropy = sum( agent['Entropy'] * agent['observations'] )\n",
    "\toldentropy = entropy(d[target])\n",
    "\treturn oldentropy - newentropy\n",
    "\n",
    "\n",
    "def id3(sub, target, a):\n",
    "\tcount = Counter(x for x in sub[target])\n",
    "\tif len(count) == 1:\n",
    "\t\treturn next(iter(count))\n",
    "\telse:\n",
    "\t\tgain = [information_gain(sub, attr, target) for attr in a]\n",
    "\t\tprint(\"Gain=\",gain)\n",
    "\t\tmaximum = gain.index(max(gain))\n",
    "\t\tbest = a[maximum]\n",
    "\t\tprint(\"Best Attribute:\",best)\n",
    "\t\ttree = {best:{}}\n",
    "\t\tremaining = [i for i in a if i != best]\n",
    "\t\t\n",
    "\t\tfor val, subset in sub.groupby(best):\n",
    "\t\t\tsubtree = id3(subset,target,remaining)\n",
    "\t\t\ttree[best][val] = subtree\n",
    "\t\treturn tree\n",
    "\n",
    "names = list(tennis.columns)\n",
    "print(\"List of Attributes:\", names)\n",
    "names.remove('PlayTennis')\n",
    "print(\"Predicting Attributes:\", names)\n",
    "tree = id3(tennis,'PlayTennis',names)\n",
    "print(\"\\n\\nThe Resultant Decision Tree is :\\n\")\n",
    "print(tree)"
   ]
  },
  {
   "cell_type": "code",
   "execution_count": null,
   "id": "413eeb63",
   "metadata": {},
   "outputs": [],
   "source": []
  }
 ],
 "metadata": {
  "kernelspec": {
   "display_name": "Python 3 (ipykernel)",
   "language": "python",
   "name": "python3"
  },
  "language_info": {
   "codemirror_mode": {
    "name": "ipython",
    "version": 3
   },
   "file_extension": ".py",
   "mimetype": "text/x-python",
   "name": "python",
   "nbconvert_exporter": "python",
   "pygments_lexer": "ipython3",
   "version": "3.9.7"
  }
 },
 "nbformat": 4,
 "nbformat_minor": 5
}
